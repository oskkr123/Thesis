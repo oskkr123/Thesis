{
 "cells": [
  {
   "cell_type": "code",
   "execution_count": 1,
   "metadata": {},
   "outputs": [],
   "source": [
    "import numpy as np              \n",
    "from time import time\n",
    "from os import listdir\n",
    "from glob import glob\n",
    "import cv2\n",
    "import os \n",
    "import scipy.linalg as sg\n",
    "from PIL import Image\n",
    "from math import sqrt\n",
    "import matplotlib.pyplot as plt\n",
    "import matplotlib.animation as animation\n",
    "from PIL import Image\n",
    "from math import sqrt\n",
    "%matplotlib inline\n"
   ]
  },
  {
   "cell_type": "code",
   "execution_count": 2,
   "metadata": {},
   "outputs": [],
   "source": [
    "def dirr_carps(url):\n",
    "    list_elements_1,list_elements_2=[],[]\n",
    "    for carp in listdir(url):\n",
    "        list_elements_1.append(url+carp)\n",
    "        list_elements_2.append(carp)\n",
    "    return sorted(list_elements_1),sorted(list_elements_2)"
   ]
  },
  {
   "cell_type": "code",
   "execution_count": 3,
   "metadata": {},
   "outputs": [],
   "source": [
    "def cambio_clase(str_h):\n",
    "    cont=0\n",
    "    for i in str_h:\n",
    "        if(cont==2):\n",
    "            num=str(int(i)+1)\n",
    "        if(i==\"_\"):\n",
    "            cont=cont+1\n",
    "    return num"
   ]
  },
  {
   "cell_type": "code",
   "execution_count": 4,
   "metadata": {},
   "outputs": [],
   "source": [
    "#dir es la direccion resultante de list_elements\n",
    "#como output obtiene una cadena de texto con las trayectorias\n",
    "def tr_text(dir):\n",
    "    temp=''\n",
    "    with open(dir) as fp:  \n",
    "        line = fp.readline()\n",
    "        cnt = 1\n",
    "        while line:\n",
    "            line = fp.readline()\n",
    "            temp= temp+line[:-1]\n",
    "            cnt += 1\n",
    "    return(temp)"
   ]
  },
  {
   "cell_type": "code",
   "execution_count": 5,
   "metadata": {},
   "outputs": [],
   "source": [
    "def cortar(x):\n",
    "    #x = trayectorias en texto            \n",
    "    tr=[]\n",
    "    gtr=[]\n",
    "    count = 0\n",
    "    n = 0\n",
    "    for i in range(0,len(x)):\n",
    "        if(x[i]==' '):\n",
    "            count=count+1\n",
    "            tr.append(float(x[n:i]))\n",
    "            n=i\n",
    "        if(count==34):\n",
    "            gtr.append(tr)\n",
    "            count=0\n",
    "            tr=[]\n",
    "    return gtr"
   ]
  },
  {
   "cell_type": "code",
   "execution_count": 6,
   "metadata": {},
   "outputs": [],
   "source": [
    "def flujo_optico(imgBGR ):\n",
    "    \n",
    "    tem = cv2.cvtColor(imgBGR,cv2.COLOR_BGR2YCrCb)\n",
    "    f,c,ch = tem.shape\n",
    "    imgYcrcb = np.zeros((f,c,ch))\n",
    "    direction_matrix = np.zeros((f,c))\n",
    "   \n",
    "    for row in range(0,tem.shape[0]):         #y\n",
    "        for col in range(0,tem.shape[1]):     #x\n",
    "            \n",
    "            imgYcrcb[row,col,1] = tem[row,col,1] + (-128.0)                 #Cr\n",
    "            imgYcrcb[row,col,2] = tem[row,col,2] + (-128.0)                 #Cb\n",
    "            imgYcrcb[row,col,0] = tem[row,col,0]                          #Y\n",
    "                                  \n",
    "            if imgYcrcb[row,col,1] > 0 and imgYcrcb[row,col,2] > 0:\n",
    "                angle = (np.arctan(imgYcrcb[row][col][1]/imgYcrcb[row][col][2])* (180.0/np.pi)) + 270\n",
    "                direction_matrix[row][col] = angle\n",
    "\n",
    "            elif imgYcrcb[row,col,1] > 0 and imgYcrcb[row,col,2] < 0:\n",
    "                angle = np.arctan(imgYcrcb[row][col][2]/imgYcrcb[row][col][1])* (180.0/np.pi)\n",
    "                direction_matrix[row][col] = angle\n",
    "\n",
    "            elif imgYcrcb[row,col,1] < 0 and imgYcrcb[row,col,2] < 0:\n",
    "                angle = (np.arctan(imgYcrcb[row][col][1]/imgYcrcb[row][col][2])* (180.0/np.pi))+ 90\n",
    "                direction_matrix[row][col] = angle\n",
    "\n",
    "            elif imgYcrcb[row,col,1] < 0 and imgYcrcb[row,col,2] > 0:\n",
    "                angle = (np.arctan(imgYcrcb[row][col][2]/imgYcrcb[row][col][1])* (180.0/np.pi)) + 180\n",
    "                direction_matrix[row][col] = angle\n",
    "\n",
    "            elif imgYcrcb[row,col,1] > 0 and imgYcrcb[row,col,2] == 0:\n",
    "                angle = 0.0 \n",
    "                direction_matrix[row][col] = angle\n",
    "\n",
    "            elif imgYcrcb[row,col,1] < 0 and imgYcrcb[row,col,2] == 0:\n",
    "                angle = 180.0 \n",
    "                direction_matrix[row][col] = angle\n",
    "\n",
    "            elif imgYcrcb[row,col,1] == 0 and imgYcrcb[row,col,2] > 0:\n",
    "                angle = 270.0\n",
    "                direction_matrix[row][col] = angle\n",
    "\n",
    "            elif imgYcrcb[row,col,1] == 0 and imgYcrcb[row,col,2] < 0:\n",
    "                angle = 90.0 \n",
    "                direction_matrix[row][col] = angle\n",
    "\n",
    "            elif imgYcrcb[row,col,1] == 0 and imgYcrcb[row,col,2] == 0:\n",
    "                angle = 0.0 \n",
    "                direction_matrix[row][col] = angle   \n",
    "    \n",
    "    mag,d=cv2.cartToPolar(imgYcrcb[:,:,2],imgYcrcb[:,:,1])    #cartTopolar(x,y)\n",
    "    return imgYcrcb,mag,abs(direction_matrix) "
   ]
  },
  {
   "cell_type": "code",
   "execution_count": 7,
   "metadata": {},
   "outputs": [],
   "source": [
    "def pintar(cov):\n",
    "    new_cov=np.copy(cov)\n",
    "    for i in range(cov.shape[1]):\n",
    "        for j in range(cov.shape[0]):\n",
    "            if(new_cov[i,j]<=0):\n",
    "                new_cov[i,j]=-1*(new_cov[i,j]/np.min(cov))\n",
    "            else:\n",
    "                new_cov[i,j]=new_cov[i,j]/np.max(cov)\n",
    "    return new_cov"
   ]
  },
  {
   "cell_type": "code",
   "execution_count": 8,
   "metadata": {},
   "outputs": [],
   "source": [
    "def normalized_matrices(covs):\n",
    "    d=covs[0][0].shape[0]\n",
    "    min_matrix=np.zeros((d,d))\n",
    "    max_matrix=np.zeros((d,d))\n",
    "    for i in range(len(covs)):\n",
    "        #for de frames\n",
    "        for j in range(len(covs[i])):\n",
    "            #for de trayectorias en los frames\n",
    "            new_cov=covs[i][j]\n",
    "            for k in range(covs[i][j].shape[0]):\n",
    "                for l in range(covs[i][j].shape[1]):\n",
    "                    #for's para las dimensiones de las covarianzas(# de primitivas)\n",
    "                    if(new_cov[k,l]<min_matrix[k,l]):\n",
    "                        min_matrix[k,l]=new_cov[k,l]\n",
    "                    if(new_cov[k,l]>max_matrix[k,l]):\n",
    "                        max_matrix[k,l]=new_cov[k,l]\n",
    "    return max_matrix,min_matrix"
   ]
  },
  {
   "cell_type": "code",
   "execution_count": 9,
   "metadata": {},
   "outputs": [],
   "source": [
    "def normalized_draw(cov,max_matrix,min_matrix):\n",
    "    new_cov=np.copy(cov)\n",
    "    for i in range(cov.shape[1]):\n",
    "        for j in range(cov.shape[0]):\n",
    "            if(new_cov[i,j]<=0):\n",
    "                new_cov[i,j]=-1*(new_cov[i,j]/min_matrix[i,j])\n",
    "            else:\n",
    "                new_cov[i,j]=new_cov[i,j]/max_matrix[i,j]\n",
    "    return new_cov"
   ]
  },
  {
   "cell_type": "code",
   "execution_count": 13,
   "metadata": {},
   "outputs": [],
   "source": [
    "def int_great_array(img,imgf):\n",
    "# nuestrass 4 caracteristicas de la imagen, puede tenerse en cuenta el color\n",
    "\n",
    "    gris=cv2.cvtColor(img,cv2.COLOR_BGR2GRAY)\n",
    "    sobelx=cv2.Sobel(gris,cv2.CV_64F,1,0,ksize=3)\n",
    "    sobely=cv2.Sobel(gris,cv2.CV_64F,0,1,ksize=3)\n",
    "    sobelyx=((cv2.Sobel(sobelx,cv2.CV_64F,1,0,ksize=3)+cv2.Sobel(sobely,cv2.CV_64F,0,1,ksize=3))/2)\n",
    "    laplacian=cv2.Laplacian(gris,cv2.CV_64F,ksize=3)\n",
    "    imgyrcv,mag,direction=flujo_optico(imgf)\n",
    "    cr=imgyrcv[:,:,1]\n",
    "    cb=imgyrcv[:,:,2]\n",
    "    #sobelx=cv2.resize(sobelx, (mag.shape[1],mag.shape[0]))\n",
    "    #sobely=cv2.resize(sobely, (mag.shape[1],mag.shape[0]))\n",
    "    #sobelyx=cv2.resize(sobelyx, (mag.shape[1],mag.shape[0]))\n",
    "    #laplacian=cv2.resize(laplacian, (mag.shape[1],mag.shape[0]))\n",
    "    ch_array=np.array([sobelx,sobely,sobelyx,laplacian,cr,cb,mag])\n",
    "    #print(sobelx.shape,sobely.shape,sobelyx.shape,laplacian.shape,cr.shape,cb.shape,mag.shape)\n",
    "    #Matriz de d*w*h\n",
    "    #print(ch_array,ch_array.shape)\n",
    "    d=ch_array.shape[0]\n",
    "    W=ch_array.shape[1]\n",
    "    H=ch_array.shape[2]\n",
    "    #Tensor P\n",
    "    f_mat=np.zeros((d,W+1,H+1))\n",
    "    for i in range(d):\n",
    "        img_int=cv2.integral(ch_array[i],sdepth=cv2.CV_64F)\n",
    "        f_mat[i]=img_int \n",
    "    #Tensor Q    \n",
    "    nmatrices=((d * (d + 1)) / 2 )\n",
    "    matrix_product=np.zeros((int(nmatrices),W+1,H+1))              \n",
    "    pos=0\n",
    "    for i in range(d):\n",
    "        for j in range(i,d):\n",
    "            mult=ch_array[i]*ch_array[j]                      #producto elemento a elemento entre tipos arrays\n",
    "            img_int=cv2.integral(mult,sdepth=cv2.CV_64F)\n",
    "            matrix_product[pos] = img_int\n",
    "            pos=pos+1\n",
    "        \n",
    "\n",
    "    return ch_array,f_mat,matrix_product"
   ]
  },
  {
   "cell_type": "code",
   "execution_count": 14,
   "metadata": {},
   "outputs": [],
   "source": [
    "def matriz_covarianza_x16(Px16,Qx16,T_area):\n",
    "    #El tensor P\n",
    "    #El tensor Q\n",
    "    #Las coordenadas de los puntos para las regiones de interes\n",
    "    d=Px16[0].shape[0]\n",
    "    m_cov=np.zeros((d,d))\n",
    "    pos=0\n",
    "    p_1=0\n",
    "    p_2=0\n",
    "    q=0\n",
    "    \n",
    "    for i in range(d):\n",
    "        for j in range(i,d):\n",
    "            for k in range(len(Qx16)):\n",
    "                y1=T_area[k][0]\n",
    "                x1=T_area[k][1]\n",
    "                y2=T_area[k][2]\n",
    "                x2=T_area[k][3]\n",
    "                col=x2-x1\n",
    "                fil=y2=-y1\n",
    "                \n",
    "                q=Qx16[k][pos][y1,x1]+Qx16[k][pos][y1+fil,x1+col]-Qx16[k][pos][y1,x1+col]-Qx16[k][pos][y1+fil,x1]+q\n",
    "                p_1=(Px16[k][i][y1,x1]+Px16[k][i][y1+fil,x1+col]-Px16[k][i][y1,x1+col]-Px16[k][i][fil+y1,x1])/(fil*col)+p_1\n",
    "                p_2=(Px16[k][j][y1,x1]+Px16[k][j][y1+fil,x1+col]-Px16[k][j][y1,x1+col]-Px16[k][j][fil+y1,x1])/(fil*col)+p_2\n",
    "                #print(k)\n",
    "            n1=(1/((fil*col)-1))*16\n",
    "            n2=(1/(fil*col))*16    \n",
    "            m_cov[i,j]=(n1)*(q-(n2*p_1*p_2))\n",
    "            pos=pos+1\n",
    "            \n",
    "            if(i!=j):\n",
    "                m_cov[j,i]=m_cov[i,j]\n",
    "\n",
    "                \n",
    "    return m_cov"
   ]
  },
  {
   "cell_type": "code",
   "execution_count": 21,
   "metadata": {},
   "outputs": [],
   "source": [
    "def video_covs_x16(path,trayectorias,area,path2):\n",
    "    #tr_list = mi lista de trayectorias \n",
    "    #En el tensor P obtengo listas de d*w*h\n",
    "    #En el tensor Q obtengo listas de n*w*h, donde n es el numero de elementos de la diagonal superior\n",
    "    #tr_matrix es una matriz de trayectorias con dimension [nro de trayectorias][nro de frames*2] (x, y)\n",
    "    #list_cov es una lista con todas mis covarianzas, donde tiene [nro del frame-15][nro de covarianzas por frame]\n",
    "    #Obtengo como salidas, una lista de listas con todas mis covarianzas, y una matriz de trayectorias, de donde las puedo extraer\n",
    "    #Para ejecutar esta funcion debo tener antes, mis caracteristicas integrales int_great_array\n",
    "    \n",
    "    flujo,f,great_p,great_q,Q=[],[],[],[],[]\n",
    "    images = [path+image for image in os.listdir(path)]\n",
    "    n_images = len(images)\n",
    "\n",
    "    if isinstance(sqrt(n_images)%1,float):limits = int(sqrt(n_images))+1 \n",
    "    else:limits = int(sqrt(n_images))  \n",
    "    for i,image in enumerate(images):\n",
    "        im = Image.open(image)\n",
    "        a='FramesTemp/frame'+str(i+1)+'.jpg'\n",
    "        if(i<10):\n",
    "            zeros='0000000'\n",
    "            b='FramesF/'+path2+'/'+zeros+str(i+1)+'.ppm'\n",
    "            flujo.append(b)\n",
    "        elif(i<100):\n",
    "            zeros='000000'\n",
    "            b='FramesF/'+path2+'/'+zeros+str(i+1)+'.ppm'\n",
    "            flujo.append(b)\n",
    "        else:\n",
    "            zeros='00000'\n",
    "            b='FramesF/'+path2+'/'+zeros+str(i+1)+'.ppm'\n",
    "            flujo.append(b)\n",
    "            \n",
    "        f.append(a)\n",
    "        \n",
    "        try: \n",
    "            #print(cv2.imread(flujo[i]).shape)\n",
    "            x,p,q=int_great_array(cv2.imread(f[i]),cv2.imread(flujo[i]))\n",
    "        except:\n",
    "           #xf=cv2.imread(flujo[i-1])\n",
    "            x,p,q=int_great_array(cv2.imread(f[i]),cv2.imread(flujo[i-1]))\n",
    "                                  \n",
    "        great_p.append(p)\n",
    "        great_q.append(q)\n",
    "    #Obtengo el tensor P y Q\n",
    "    \n",
    "    d=great_p[0].shape[0]\n",
    "    tr_list=cortar(trayectorias)\n",
    "    #nro numero de trayectorias del video\n",
    "    nro=len(tr_list)\n",
    "    #nro2 numero de frames del video*2\n",
    "    nro2=n_images*2\n",
    "    tr_matrix=np.zeros((nro,nro2))\n",
    "    x,y=tr_matrix.shape\n",
    "    \n",
    "    for i in range(0,x):\n",
    "        k=2\n",
    "        for j in range(int((tr_list[i][0]*2)),int((tr_list[i][1]*2))):\n",
    "            tr_matrix[i][j]=tr_list[i][k]\n",
    "            k=k+1\n",
    "    #Obtengo mi matriz de trayectorias segun el caso\n",
    "    \n",
    "    #El 32 debido a que empieza en el frame 16 y termina 16 frames antes del final.\n",
    "    list_cov=[]\n",
    "    for i in range(nro):\n",
    "        #iteran trayectorias\n",
    "        #cov_fr=[]\n",
    "        Qx16=[]\n",
    "        Px16=[]\n",
    "        T_area=[]\n",
    "        for j in range(32,nro2,2):\n",
    "            if(np.float32(tr_matrix[i][j])==0):\n",
    "                pass\n",
    "            else:\n",
    "                temp=int(j/2)\n",
    "                temp_area=[]\n",
    "            #flag = True\n",
    "            #if(tr_matrix[i][j]+area < great_p[0].shape[1] ):\n",
    "                y1=int(tr_matrix[i][j]+area)\n",
    "            #else:\n",
    "            #    flag=False\n",
    "            #if(tr_matrix[i][j]-area > 0 ):\n",
    "                y2=int(tr_matrix[i][j]-area)\n",
    "            #else:\n",
    "            #    flag=False\n",
    "            #if(tr_matrix[i][j+1]+area > great_p[0].shape[2] ):    \n",
    "                x1=int(tr_matrix[i][j+1]+area)\n",
    "            #else:\n",
    "            #    flag=False                \n",
    "            #if(tr_matrix[i][j+1]-area > 0 ):\n",
    "                x2=int(tr_matrix[i][j+1]-area)\n",
    "                #else:\n",
    "                #    flag=False\n",
    "                #if(flag):\n",
    "                Q=great_q[temp]\n",
    "                Qx16.append(Q)\n",
    "                P=great_p[temp]\n",
    "                Px16.append(P)\n",
    "                temp_area.append(y1)\n",
    "                temp_area.append(x1)\n",
    "                temp_area.append(y2)\n",
    "                temp_area.append(x2)\n",
    "                T_area.append(temp_area)\n",
    "\n",
    "        #print(len(T_area))\n",
    "        if(len(T_area) > 14  ):     \n",
    "            try: \n",
    "                cov=matriz_covarianza_x16(Px16,Qx16,T_area) \n",
    "                list_cov.append(cov)\n",
    "            except Exception as e:\n",
    "                e\n",
    "                \n",
    "           \n",
    "    #Obtengo list_cov\n",
    "    \n",
    "    return list_cov,tr_matrix,great_p,great_q"
   ]
  },
  {
   "cell_type": "code",
   "execution_count": null,
   "metadata": {},
   "outputs": [],
   "source": [
    "list_elements1,list_elements2=dirr_carps('Datasets/exp01/')\n",
    "trayectorias=tr_text(list_elements1[17])\n",
    "#trayectorias=cortar(trayectorias)\n",
    "area=20\n",
    "path='Trayectorias_densas/frames2/'"
   ]
  },
  {
   "cell_type": "code",
   "execution_count": null,
   "metadata": {},
   "outputs": [],
   "source": [
    "len(list_elements1)\n",
    "len(list_elements2)"
   ]
  },
  {
   "cell_type": "markdown",
   "metadata": {},
   "source": [
    "### Con esto borro los frames de la carpeta, de manera que voy a ir salvando espacio"
   ]
  },
  {
   "cell_type": "code",
   "execution_count": null,
   "metadata": {},
   "outputs": [],
   "source": [
    "import os, shutil \n",
    "folder = path \n",
    "for the_file in os.listdir(folder): \n",
    "    file_path = os.path.join(folder, the_file) \n",
    "    try: \n",
    "        if os.path.isfile(file_path): \n",
    "            os.unlink(file_path) \n",
    "     #elif os.path.isdir(file_path): shutil.rmtree(file_path) \n",
    "    except Exception as e: \n",
    "        print(e)"
   ]
  },
  {
   "cell_type": "markdown",
   "metadata": {},
   "source": [
    "### Aca se extraen los frames de los videos, tener en cuenta, debe ser automatizado"
   ]
  },
  {
   "cell_type": "code",
   "execution_count": null,
   "metadata": {},
   "outputs": [],
   "source": [
    "vidcap = cv2.VideoCapture('Datasets/datasets/ut/segmented_set1/'+list_elements2[17][:-4]+'.avi')\n",
    "success,image = vidcap.read()\n",
    "count = 1\n",
    "success = True\n",
    "while success:\n",
    "    cv2.imwrite(\"Trayectorias_densas/frames2/frame%d.jpg\" % count, image)     # save frame as JPEG file      \n",
    "    success,image = vidcap.read()\n",
    "    #print('Read a new frame: ', success)\n",
    "    count += 1"
   ]
  },
  {
   "cell_type": "code",
   "execution_count": null,
   "metadata": {},
   "outputs": [],
   "source": [
    "'Datasets/datasets/ut/segmented_set1/'+list_elements2[17][:-4]+'.avi'"
   ]
  },
  {
   "cell_type": "code",
   "execution_count": null,
   "metadata": {},
   "outputs": [],
   "source": [
    "list_elements2[17][:-4]\n",
    "'Datasets/datasets/ut/segmented_set1/'+list_elements2[17][:-4]+'.avi'"
   ]
  },
  {
   "cell_type": "code",
   "execution_count": null,
   "metadata": {},
   "outputs": [],
   "source": [
    "path"
   ]
  },
  {
   "cell_type": "code",
   "execution_count": null,
   "metadata": {},
   "outputs": [],
   "source": [
    "covs_,matrix_,great_p_,great_q_=video_covs_x16(path,trayectorias,area)"
   ]
  },
  {
   "cell_type": "code",
   "execution_count": null,
   "metadata": {},
   "outputs": [],
   "source": [
    "print(len(covs_))\n",
    "print(matrix_.shape)\n",
    "print(len(great_p_))\n",
    "print(len(great_q_))\n",
    "print(great_p_[0].shape)\n",
    "print(covs_[0][0].shape[0])\n",
    "print(great_q_[0].shape)"
   ]
  },
  {
   "cell_type": "code",
   "execution_count": null,
   "metadata": {},
   "outputs": [],
   "source": [
    "test=covs_\n",
    "np.save('binarycovs/test',test)"
   ]
  },
  {
   "cell_type": "code",
   "execution_count": null,
   "metadata": {},
   "outputs": [],
   "source": [
    "tempo=np.load('test.npy')"
   ]
  },
  {
   "cell_type": "code",
   "execution_count": null,
   "metadata": {},
   "outputs": [],
   "source": [
    "print(len(tempo))\n",
    "print(tempo[0][0].shape[0])\n"
   ]
  },
  {
   "cell_type": "markdown",
   "metadata": {},
   "source": [
    "## LISTO PARA CORRER"
   ]
  },
  {
   "cell_type": "code",
   "execution_count": 22,
   "metadata": {},
   "outputs": [],
   "source": [
    "import os, shutil \n",
    "from tqdm import tqdm\n",
    "list_elements1,list_elements2=dirr_carps('Datasets/exp01/')\n",
    "area=20\n",
    "path='FramesTemp/'"
   ]
  },
  {
   "cell_type": "code",
   "execution_count": 23,
   "metadata": {},
   "outputs": [],
   "source": [
    "trayectorias=tr_text(list_elements1[1])\n",
    "#trayectorias"
   ]
  },
  {
   "cell_type": "code",
   "execution_count": 24,
   "metadata": {},
   "outputs": [
    {
     "data": {
      "text/plain": [
       "'10_2_1'"
      ]
     },
     "execution_count": 24,
     "metadata": {},
     "output_type": "execute_result"
    }
   ],
   "source": [
    "path2=list_elements2[1][:-4]\n",
    "path2"
   ]
  },
  {
   "cell_type": "code",
   "execution_count": 30,
   "metadata": {},
   "outputs": [
    {
     "data": {
      "text/plain": [
       "'9_2_2'"
      ]
     },
     "execution_count": 30,
     "metadata": {},
     "output_type": "execute_result"
    }
   ],
   "source": [
    "list_elements2[59][:-4]"
   ]
  },
  {
   "cell_type": "code",
   "execution_count": null,
   "metadata": {
    "scrolled": false
   },
   "outputs": [],
   "source": [
    "covs,matrix,great_p,great_q=video_covs_x16(path,trayectorias,area,path2)\n",
    "len(covs)"
   ]
  },
  {
   "cell_type": "code",
   "execution_count": 28,
   "metadata": {},
   "outputs": [
    {
     "name": "stdout",
     "output_type": "stream",
     "text": [
      "57\n",
      "58\n",
      "59\n"
     ]
    }
   ],
   "source": [
    "for i in range(57,len(list_elements1)):\n",
    "    print(i)"
   ]
  },
  {
   "cell_type": "code",
   "execution_count": 32,
   "metadata": {},
   "outputs": [
    {
     "data": {
      "text/plain": [
       "7937"
      ]
     },
     "execution_count": 32,
     "metadata": {},
     "output_type": "execute_result"
    }
   ],
   "source": [
    "import gc\n",
    "gc.collect()"
   ]
  },
  {
   "cell_type": "code",
   "execution_count": 31,
   "metadata": {},
   "outputs": [],
   "source": [
    "del(covs)\n",
    "del(matrix)\n",
    "del(great_p)\n",
    "del(great_q)"
   ]
  },
  {
   "cell_type": "code",
   "execution_count": 33,
   "metadata": {},
   "outputs": [
    {
     "name": "stderr",
     "output_type": "stream",
     "text": [
      "\n",
      "  0%|                                                                                            | 0/3 [00:00<?, ?it/s]"
     ]
    },
    {
     "name": "stdout",
     "output_type": "stream",
     "text": [
      "7_2_5\n"
     ]
    },
    {
     "name": "stderr",
     "output_type": "stream",
     "text": [
      "\n",
      " 33%|███████████████████████████▋                                                       | 1/3 [02:32<05:04, 152.41s/it]"
     ]
    },
    {
     "name": "stdout",
     "output_type": "stream",
     "text": [
      "8_2_0\n"
     ]
    },
    {
     "name": "stderr",
     "output_type": "stream",
     "text": [
      "\n",
      " 67%|███████████████████████████████████████████████████████▎                           | 2/3 [05:54<02:47, 167.38s/it]"
     ]
    },
    {
     "name": "stdout",
     "output_type": "stream",
     "text": [
      "9_2_2\n"
     ]
    },
    {
     "name": "stderr",
     "output_type": "stream",
     "text": [
      "\n",
      "100%|███████████████████████████████████████████████████████████████████████████████████| 3/3 [09:19<00:00, 178.58s/it]"
     ]
    }
   ],
   "source": [
    "\n",
    "for i in tqdm(range(57,len(list_elements1))):\n",
    "    trayectorias=tr_text(list_elements1[i])\n",
    "    path2=list_elements2[i][:-4]\n",
    "    #print(path)\n",
    "    #Eliminando frames de la carpeta \n",
    "    folder = path \n",
    "    for the_file in os.listdir(folder): \n",
    "        file_path = os.path.join(folder, the_file) \n",
    "        try: \n",
    "            if os.path.isfile(file_path): \n",
    "                os.unlink(file_path) \n",
    "         #elif os.path.isdir(file_path): shutil.rmtree(file_path) \n",
    "        except Exception as e: \n",
    "            print(e)\n",
    "    #print('flag')\n",
    "    \n",
    "    #Obteniendo frames        \n",
    "    print(list_elements2[i][:-4])\n",
    "    \n",
    "    vidcap = cv2.VideoCapture('Datasets/datasets/ut/segmented_set1/'+list_elements2[i][:-4]+'.avi')\n",
    "    success,image = vidcap.read()\n",
    "    count = 1\n",
    "    success = True\n",
    "    while success:\n",
    "        cv2.imwrite(\"FramesTemp/frame%d.jpg\" % count, image)     # save frame as JPEG file      \n",
    "        success,image = vidcap.read()\n",
    "        #print('Read a new frame: ', success)\n",
    "        count += 1\n",
    "        \n",
    "    \n",
    "    #Extrayendo covarianzas    \n",
    "    covs,matrix,great_p,great_q=video_covs_x16(path,trayectorias,area,path2)\n",
    "    np.save('binarycovs/'+ list_elements2[i][:-4],covs)\n",
    "    "
   ]
  },
  {
   "cell_type": "code",
   "execution_count": null,
   "metadata": {},
   "outputs": [],
   "source": [
    "covs,matrix,great_p,great_q=video_covs_x16(path,trayectorias,area)"
   ]
  },
  {
   "cell_type": "code",
   "execution_count": null,
   "metadata": {},
   "outputs": [],
   "source": [
    "list_elements2[0][:-4]"
   ]
  },
  {
   "cell_type": "code",
   "execution_count": null,
   "metadata": {},
   "outputs": [],
   "source": []
  }
 ],
 "metadata": {
  "kernelspec": {
   "display_name": "Python 3",
   "language": "python",
   "name": "python3"
  },
  "language_info": {
   "codemirror_mode": {
    "name": "ipython",
    "version": 3
   },
   "file_extension": ".py",
   "mimetype": "text/x-python",
   "name": "python",
   "nbconvert_exporter": "python",
   "pygments_lexer": "ipython3",
   "version": "3.7.3"
  }
 },
 "nbformat": 4,
 "nbformat_minor": 2
}
