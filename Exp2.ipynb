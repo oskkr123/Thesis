{
 "cells": [
  {
   "cell_type": "code",
   "execution_count": 1,
   "metadata": {},
   "outputs": [],
   "source": [
    "import cv2 as cv\n",
    "import os\n",
    "import sys\n",
    "import numpy as np\n",
    "from glob import glob\n",
    "from tqdm import tqdm\n",
    "import matplotlib.pyplot as plt\n",
    "from ipywidgets import interact, interactive, fixed, interact_manual\n",
    "import ipywidgets as widgets"
   ]
  },
  {
   "cell_type": "code",
   "execution_count": 2,
   "metadata": {},
   "outputs": [],
   "source": [
    "binaries_path = sorted(glob(\"./binarycovs/*.npy\"))\n",
    "binaries = np.array([np.load(path) for path in binaries_path])"
   ]
  },
  {
   "cell_type": "code",
   "execution_count": 3,
   "metadata": {},
   "outputs": [],
   "source": [
    "y_train=[]\n",
    "y=[]\n",
    "x=[]\n",
    "for i in range(len(binaries_path)):\n",
    "    x.append(binaries[i])\n",
    "    y.append(int(binaries_path[i].split('.')[-2][-1]))\n",
    "\n",
    "x = np.array(x)\n",
    "y = np.array(y)"
   ]
  },
  {
   "cell_type": "code",
   "execution_count": 4,
   "metadata": {},
   "outputs": [],
   "source": [
    "xi = []\n",
    "for i in range(len(x)):\n",
    "    xi.append([])\n",
    "    for j in range(len(x[i])):\n",
    "        xi[i].append(x[i][j].flatten())"
   ]
  },
  {
   "cell_type": "code",
   "execution_count": 6,
   "metadata": {},
   "outputs": [],
   "source": [
    "total=[]\n",
    "for i in range(len(binaries)):\n",
    "    for j in range(len(binaries[i])):\n",
    "        total.append(binaries[i][j].flatten())"
   ]
  },
  {
   "cell_type": "code",
   "execution_count": 55,
   "metadata": {},
   "outputs": [],
   "source": [
    "from sklearn.cluster import KMeans\n",
    "estimator=KMeans(n_clusters=32000).fit(total)\n",
    "dictionary=estimator.cluster_centers_\n"
   ]
  },
  {
   "cell_type": "code",
   "execution_count": 56,
   "metadata": {},
   "outputs": [
    {
     "data": {
      "image/png": "[encoded data removed]",
      "text/plain": [
       "<Figure size 432x288 with 1 Axes>"
      ]
     },
     "metadata": {
      "needs_background": "light"
     },
     "output_type": "display_data"
    }
   ],
   "source": [
    "from sklearn.metrics import pairwise_distances_argmin_min\n",
    "from sklearn.metrics import pairwise_distances\n",
    "\n",
    "topr=[]\n",
    "for i in range(len(binaries)):\n",
    "    temp1,temp2=pairwise_distances_argmin_min(xi[i],dictionary,metric='euclidean')\n",
    "    histogram_vid=plt.hist(temp1,bins=len(dictionary))\n",
    "    topr.append(histogram_vid[0])\n",
    "    \n",
    "dataset_train2=np.array(topr)"
   ]
  },
  {
   "cell_type": "code",
   "execution_count": 57,
   "metadata": {},
   "outputs": [],
   "source": [
    "from sklearn.model_selection import train_test_split\n",
    "x_train, x_test,y_train,y_test= train_test_split(dataset_train2,y, test_size=0.2, shuffle=True)"
   ]
  },
  {
   "cell_type": "code",
   "execution_count": 166,
   "metadata": {},
   "outputs": [],
   "source": [
    "from sklearn.svm import SVC\n",
    "from sklearn.naive_bayes import GaussianNB\n",
    "from sklearn.ensemble import RandomForestClassifier\n",
    "from sklearn.metrics import confusion_matrix\n",
    "from sklearn.neighbors import KNeighborsClassifier\n",
    "\n",
    "GN_est = GaussianNB()\n",
    "RF_est = RandomForestClassifier(n_estimators=50,max_depth=20)\n",
    "SV_est = SVC(C=50,kernel='linear')\n",
    "KN_est = KNeighborsClassifier(n_neighbors=10)"
   ]
  },
  {
   "cell_type": "markdown",
   "metadata": {},
   "source": [
    "## K neighbor"
   ]
  },
  {
   "cell_type": "code",
   "execution_count": 70,
   "metadata": {},
   "outputs": [
    {
     "name": "stdout",
     "output_type": "stream",
     "text": [
      "0.08333333333333333\n"
     ]
    },
    {
     "data": {
      "image/png": "[encoded data removed]",
      "text/plain": [
       "<Figure size 432x288 with 2 Axes>"
      ]
     },
     "metadata": {
      "needs_background": "light"
     },
     "output_type": "display_data"
    }
   ],
   "source": [
    "KN_est.fit(x_train, y_train)\n",
    "KN_pr = KN_est.predict(x_test)\n",
    "print(KN_est.score(x_test, y_test))\n",
    "cm_test1 = confusion_matrix(y_test, KN_pr)\n",
    "plt.imshow(cm_test1, interpolation=\"nearest\", cmap=plt.cm.Blues);\n",
    "plt.colorbar();"
   ]
  },
  {
   "cell_type": "markdown",
   "metadata": {},
   "source": [
    "## GaussianNB"
   ]
  },
  {
   "cell_type": "code",
   "execution_count": 60,
   "metadata": {},
   "outputs": [
    {
     "name": "stdout",
     "output_type": "stream",
     "text": [
      "0.4166666666666667\n"
     ]
    },
    {
     "data": {
      "image/png": "[encoded data removed]",
      "text/plain": [
       "<Figure size 432x288 with 2 Axes>"
      ]
     },
     "metadata": {
      "needs_background": "light"
     },
     "output_type": "display_data"
    }
   ],
   "source": [
    "GN_est.fit(x_train, y_train)\n",
    "GN_pr = GN_est.predict(x_test)\n",
    "print (GN_est.score(x_test, y_test))\n",
    "cm_test2 = confusion_matrix(y_test, GN_pr)\n",
    "\n",
    "plt.imshow(cm_test2, interpolation=\"nearest\", cmap=plt.cm.Blues);\n",
    "plt.colorbar();\n",
    "\n"
   ]
  },
  {
   "cell_type": "markdown",
   "metadata": {},
   "source": [
    "## Random Forest"
   ]
  },
  {
   "cell_type": "code",
   "execution_count": 176,
   "metadata": {},
   "outputs": [
    {
     "name": "stdout",
     "output_type": "stream",
     "text": [
      "0.3333333333333333\n"
     ]
    },
    {
     "data": {
      "image/png": "[encoded data removed]",
      "text/plain": [
       "<Figure size 432x288 with 2 Axes>"
      ]
     },
     "metadata": {
      "needs_background": "light"
     },
     "output_type": "display_data"
    }
   ],
   "source": [
    "RF_est.fit(x_train, y_train)\n",
    "RF_pr = RF_est.predict(x_test)\n",
    "print(RF_est.score(x_test, y_test))\n",
    "cm_test3 = confusion_matrix(y_test, RF_pr)\n",
    "\n",
    "plt.imshow(cm_test3, interpolation=\"nearest\", cmap=plt.cm.Blues);\n",
    "plt.colorbar();"
   ]
  },
  {
   "cell_type": "markdown",
   "metadata": {},
   "source": [
    "## Support Vector Macine"
   ]
  },
  {
   "cell_type": "code",
   "execution_count": 77,
   "metadata": {},
   "outputs": [
    {
     "name": "stdout",
     "output_type": "stream",
     "text": [
      "0.25\n"
     ]
    },
    {
     "data": {
      "image/png": "[encoded data removed]",
      "text/plain": [
       "<Figure size 432x288 with 2 Axes>"
      ]
     },
     "metadata": {
      "needs_background": "light"
     },
     "output_type": "display_data"
    }
   ],
   "source": [
    "SV_est.fit(x_train, y_train)\n",
    "SV_pr = SV_est.predict(x_test)\n",
    "print (SV_est.score(x_test, y_test))\n",
    "cm_test4 = confusion_matrix(y_test, SV_pr)\n",
    "\n",
    "plt.imshow(cm_test4, interpolation=\"nearest\", cmap=plt.cm.Blues);\n",
    "plt.colorbar();\n"
   ]
  },
  {
   "cell_type": "code",
   "execution_count": null,
   "metadata": {},
   "outputs": [],
   "source": []
  },
  {
   "cell_type": "code",
   "execution_count": null,
   "metadata": {},
   "outputs": [],
   "source": []
  }
 ],
 "metadata": {
  "kernelspec": {
   "display_name": "Python 3",
   "language": "python",
   "name": "python3"
  },
  "language_info": {
   "codemirror_mode": {
    "name": "ipython",
    "version": 3
   },
   "file_extension": ".py",
   "mimetype": "text/x-python",
   "name": "python",
   "nbconvert_exporter": "python",
   "pygments_lexer": "ipython3",
   "version": "3.7.3"
  }
 },
 "nbformat": 4,
 "nbformat_minor": 2
}
